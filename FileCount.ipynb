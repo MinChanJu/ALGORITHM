{
 "cells": [
  {
   "cell_type": "code",
   "execution_count": 4,
   "id": "3c74126b",
   "metadata": {},
   "outputs": [],
   "source": [
    "import os\n",
    "import re\n",
    "import shutil\n",
    "import requests\n",
    "import pandas as pd\n",
    "from bs4 import BeautifulSoup\n",
    "from openpyxl import load_workbook\n",
    "from openpyxl.styles import Alignment"
   ]
  },
  {
   "cell_type": "code",
   "execution_count": 5,
   "id": "f79d63e3",
   "metadata": {},
   "outputs": [],
   "source": [
    "url = \"https://www.acmicpc.net/step\"\n",
    "headers = {\n",
    "    \"User-Agent\": \"Mozilla/5.0 (Windows NT 10.0; Win64; x64)\"\n",
    "}\n",
    "\n",
    "response = requests.get(url, headers=headers)\n",
    "soup = BeautifulSoup(response.text, \"html.parser\")"
   ]
  },
  {
   "cell_type": "code",
   "execution_count": 6,
   "id": "614dea14",
   "metadata": {},
   "outputs": [],
   "source": [
    "class Step:\n",
    "  def __init__(self, num=0, title=\"\", description=\"\", total=0, problems=None, link=\"\"):\n",
    "    self.num = num\n",
    "    self.title = title\n",
    "    self.description = description\n",
    "    self.total = total\n",
    "    self.problems = problems if problems is not None else []\n",
    "    self.link = link\n",
    "  def __str__(self):\n",
    "    problems_str = \"\\n\".join(map(str, self.problems))\n",
    "    return f\"[{self.num}] {self.title} ({self.total}문제)\\n{self.description}\\n{problems_str}\\n{self.link}\"\n",
    "  \n",
    "class Problem:\n",
    "  def __init__(self, num=0, title=\"\", link=\"\"):\n",
    "    self.num = num\n",
    "    self.title = title\n",
    "    self.link = link\n",
    "  def __str__(self):\n",
    "    return f\"[{self.num}] {self.title} - {self.link}\""
   ]
  },
  {
   "cell_type": "code",
   "execution_count": 7,
   "id": "1c1b5892",
   "metadata": {},
   "outputs": [],
   "source": [
    "trs = soup.find(\"tbody\").find_all(\"tr\")\n",
    "\n",
    "steps = []\n",
    "for tr in trs:\n",
    "  tds = tr.find_all(\"td\")\n",
    "  if len(tds) >= 5:\n",
    "    num = int(tds[0].text)\n",
    "    title = tds[1].text\n",
    "    description = tds[2].text\n",
    "    total = int(tds[4].text)\n",
    "    link = \"https://www.acmicpc.net\" + tds[1].find(\"a\")[\"href\"]\n",
    "    step_obj = Step(num, title, description, total, None, link)\n",
    "    steps.append(step_obj)"
   ]
  },
  {
   "cell_type": "code",
   "execution_count": 8,
   "id": "c864a28b",
   "metadata": {},
   "outputs": [],
   "source": [
    "for step in steps:\n",
    "  step_response = requests.get(step.link, headers=headers)\n",
    "  step_soup = BeautifulSoup(step_response.text, \"html.parser\")\n",
    "  step_trs = step_soup.find(\"tbody\").find_all(\"tr\")\n",
    "\n",
    "  for step_tr in step_trs:\n",
    "    step_tds = step_tr.find_all(\"td\")\n",
    "    if len(step_tds) >= 5:\n",
    "      num = int(step_tds[1].text)\n",
    "      title = step_tds[2].text\n",
    "      link = \"https://www.acmicpc.net\" + step_tds[2].find(\"a\")[\"href\"]\n",
    "      problem_obj = Problem(num, title, link)\n",
    "      step.problems.append(problem_obj)"
   ]
  },
  {
   "cell_type": "code",
   "execution_count": 9,
   "id": "b684488f",
   "metadata": {},
   "outputs": [
    {
     "name": "stdout",
     "output_type": "stream",
     "text": [
      "[0, 13, 7, 12, 10, 11, 8, 4, 7, 6, 8, 7, 6, 11, 8, 9, 11, 5, 5, 7, 8, 16, 6, 5, 9, 7, 6, 6, 5, 16, 3, 7, 5, 9, 7, 4, 6, 10, 4, 10, 8, 8, 5, 8, 8, 6, 12, 6, 6, 8, 4, 11, 5, 5, 11, 7, 8]\n",
      "[[], [2557, 1000, 1001, 10998, 1008, 10869, 10926, 18108, 10430, 2588, 11382, 10171, 10172], [1330, 9498, 2753, 14681, 2884, 2525, 2480], [2739, 10950, 8393, 25304, 25314, 15552, 11021, 11022, 2438, 2439, 10952, 10951], [10807, 10871, 10818, 2562, 10810, 10813, 5597, 3052, 10811, 1546], [27866, 2743, 9086, 11654, 11720, 10809, 2675, 1152, 2908, 5622, 11718], [25083, 3003, 2444, 10988, 1157, 2941, 1316, 25206], [2738, 2566, 10798, 2563], [2745, 11005, 2720, 2903, 2292, 1193, 2869], [5086, 2501, 9506, 1978, 2581, 11653], [27323, 1085, 3009, 15894, 9063, 10101, 5073, 14215], [24262, 24263, 24264, 24265, 24266, 24267, 24313], [2798, 2231, 19532, 1018, 1436, 2839], [2750, 2587, 25305, 2751, 10989, 1427, 11650, 11651, 1181, 10814, 18870], [10815, 14425, 7785, 1620, 10816, 1764, 1269, 11478], [1934, 13241, 1735, 2485, 4134, 1929, 4948, 17103, 13909], [28278, 10773, 9012, 4949, 12789, 18258, 2164, 11866, 28279, 2346, 24511], [15439, 24723, 10872, 11050, 1010], [1037, 25192, 26069, 2108, 20920], [27433, 10870, 25501, 24060, 4779, 2447, 11729], [15649, 15650, 15651, 15652, 9663, 2580, 14888, 14889], [24416, 9184, 1904, 9461, 1912, 1149, 1932, 2579, 1463, 10844, 2156, 11053, 11054, 2565, 9251, 12865], [11659, 2559, 16139, 10986, 11660, 25682], [11047, 1931, 11399, 1541, 13305], [2630, 1992, 1780, 1629, 11401, 2740, 10830, 11444, 6549], [1920, 10816, 1654, 2805, 2110, 1300, 12015], [11279, 1927, 11286, 2075, 2696, 1202], [11066, 11049, 1520, 2629, 2293, 7579], [9935, 17298, 17299, 1725, 3015], [24479, 24480, 24444, 24445, 2606, 1260, 2667, 1012, 2178, 1697, 7562, 7576, 7569, 16928, 2206, 1707], [2252, 3665, 1766], [1753, 1504, 13549, 9370, 11657, 11404, 1956], [3273, 2470, 1806, 1644, 1450], [12852, 14002, 14003, 9252, 2618, 13913, 9019, 11779, 11780], [11725, 1167, 1967, 1991, 2263, 5639, 4803], [1717, 1976, 4195, 20040], [9372, 1197, 4386, 1774, 6497, 17472], [20944, 30618, 28065, 25184, 25288, 31836, 13018, 22967, 15311, 14601], [15681, 2213, 2533, 1949], [2166, 11758, 25308, 17386, 17387, 20149, 2162, 1688, 7869, 1069], [11723, 1311, 2098, 1086, 17404, 2482, 2637, 25953], [1786, 1305, 14725, 14425, 5670, 13505, 28122, 21162], [3584, 17435, 11438, 3176, 13511], [2150, 4196, 3977, 4013, 11280, 11281, 3648, 16367], [2042, 11505, 2357, 1517, 9345, 16975, 12899, 1168], [2170, 2836, 5419, 17131, 7626, 11012], [1509, 2169, 13392, 2494, 13976, 1648, 1657, 11003, 5977, 15678, 2315, 13448], [1708, 10254, 7420, 3878, 3679, 20670], [11375, 11376, 1017, 1671, 1867, 11014], [17412, 11378, 14750, 2316, 13161, 1420, 2365, 11495], [11408, 11409, 11493, 11111], [14268, 14287, 14288, 10999, 12844, 1395, 16357, 18437, 13547, 13548, 8462], [11402, 3955, 15718, 5615, 4149], [10531, 1067, 20176, 17134, 15576], [13275, 16163, 13713, 16229, 9248, 1605, 11479, 13322, 9250, 10256, 2809], [17409, 15648, 17353, 16993, 10167, 13925, 10070], [14751, 13263, 4008, 10067, 11001, 13261, 14636, 13974]]\n"
     ]
    }
   ],
   "source": [
    "max_step = max([step.num for step in steps])\n",
    "step_numbers = [0]*(max_step+1)\n",
    "step_problems = [[]]*(max_step+1)\n",
    "for step in steps:\n",
    "  step_numbers[step.num] = step.total\n",
    "  step_problems[step.num] = [problem.num for problem in step.problems]\n",
    "print(step_numbers)\n",
    "print(step_problems)"
   ]
  },
  {
   "cell_type": "code",
   "execution_count": 10,
   "id": "8122f850",
   "metadata": {},
   "outputs": [],
   "source": [
    "lang_extension_map = {\"C\": \"c\", \"C++\": \"cpp\", \"Java\": \"java\", \"Python\": \"py\"}\n",
    "\n",
    "def extract(str1):\n",
    "    match = re.search(r'\\d+', str1)\n",
    "    if match: return int(match.group())\n",
    "    else: return -1\n",
    "\n",
    "def find(str1):\n",
    "    for idx, problems in enumerate(step_problems):\n",
    "        if (extract(str1) in problems): return idx\n",
    "    return -1\n",
    "\n",
    "def file_count(item, step, extension, wrong, num = 0):\n",
    "    cnt = 0\n",
    "    for filename in sorted(os.listdir(os.path.join(item, step))):\n",
    "        if os.path.isfile(os.path.join(item, step, filename)):\n",
    "            if (filename.endswith(f\".{extension}\")):\n",
    "                if (num == 0 or extract(filename) in step_problems[num]):\n",
    "                    cnt += 1\n",
    "                else:\n",
    "                    wrong.setdefault(item, {}).setdefault(step, []).append(filename)\n",
    "    return cnt\n",
    "\n",
    "def makeMD(col):\n",
    "    md_lines = []\n",
    "\n",
    "    # 첫 번째 줄 (헤더)\n",
    "    header = \"| \" + \" | \".join(col[0]) + \" |\"\n",
    "    md_lines.append(header)\n",
    "\n",
    "    # 두 번째 줄 (구분선)\n",
    "    separator = \"| \" + \" | \".join([':---:'] * len(col[0])) + \" |\"\n",
    "    md_lines.append(separator)\n",
    "\n",
    "    # 나머지 데이터 줄\n",
    "    for row in col[1:]:\n",
    "        line = \"| \" + \" | \".join(row) + \" |\"\n",
    "        md_lines.append(line)\n",
    "\n",
    "    # 최종 결과\n",
    "    markdown_table = \"\\n\".join(md_lines)\n",
    "\n",
    "    # 출력해보기\n",
    "    print(markdown_table)"
   ]
  },
  {
   "cell_type": "code",
   "execution_count": 11,
   "id": "99d6c82c",
   "metadata": {},
   "outputs": [
    {
     "name": "stdout",
     "output_type": "stream",
     "text": [
      "wrong\n",
      "틀린게 없음\n"
     ]
    }
   ],
   "source": [
    "wrong = {}\n",
    "\n",
    "for item in sorted(os.listdir('.')):\n",
    "    if not (os.path.isdir(item) and item.startswith(\"BAEKJOON\")):\n",
    "        continue\n",
    "    \n",
    "    for step in sorted(os.listdir(item)):\n",
    "        if not (os.path.isdir(os.path.join(item, step))) or step == \".vscode\": continue\n",
    "        extension = lang_extension_map[item[9:-1]]\n",
    "        if step == \"기타\": file_count(item, step, extension, wrong)\n",
    "        else: file_count(item, step, extension, wrong, int(step.split()[1]))\n",
    "        \n",
    "print(\"wrong\", *wrong.items(), sep='\\n')\n",
    "if not wrong: print(\"틀린게 없음\")\n",
    "for lang in wrong:\n",
    "    print(f\"{'='*10} {lang} {'='*10}\")\n",
    "    for step in wrong[lang]:\n",
    "        print(f\"<<<<< {step} >>>>>\")\n",
    "        for str1 in wrong[lang][step]:\n",
    "            sub = find(str1)\n",
    "            print(f\"{str1} -> step {sub:02d}\")\n",
    "            if (sub == -1): continue\n",
    "            src = f\"{lang}/{step}/{str1}\"\n",
    "            dst = f\"{lang}/step {sub:02d}/{str1}\"\n",
    "            shutil.move(src, dst)\n",
    "            wrong[lang][step].remove(str1)"
   ]
  },
  {
   "cell_type": "code",
   "execution_count": 12,
   "id": "ca090c2a",
   "metadata": {},
   "outputs": [],
   "source": [
    "data = []\n",
    "wrong = {}\n",
    "MAX = 0\n",
    "\n",
    "for item in sorted(os.listdir('.')):\n",
    "    if not (os.path.isdir(item) and item.startswith(\"BAEKJOON\")):\n",
    "        continue\n",
    "\n",
    "    total = 0\n",
    "    lang = item[9:-1]\n",
    "    langData = {\"Language\": lang}\n",
    "    \n",
    "    for step in sorted(os.listdir(item)):\n",
    "        if not (os.path.isdir(os.path.join(item, step))) or step == \".vscode\": continue\n",
    "        extension = lang_extension_map[lang]\n",
    "        \n",
    "        if step == \"기타\":\n",
    "            cnt = file_count(item, step, extension, wrong)\n",
    "            langData[\"etc\"] = f\"{cnt:3d}\"\n",
    "            total += cnt\n",
    "        else:\n",
    "            num = int(step.split()[1])\n",
    "            MAX = max(MAX, num)\n",
    "            cnt = file_count(item, step, extension, wrong, num)\n",
    "            remain = step_numbers[num] - cnt\n",
    "            \n",
    "            if remain == 0: langData[step] = f\"{cnt:02d} / {step_numbers[num]:02d}\"\n",
    "            else: langData[step] = f\"{cnt:02d} / {step_numbers[num]:02d} ({remain:02d})\"\n",
    "            total += cnt\n",
    "\n",
    "    langData[\"total\"] = f\"{total:3d}\"\n",
    "    data.append(langData)\n",
    "\n",
    "# 열(column) 기준 정렬\n",
    "col_data = [[\"Language\"] + [langData[\"Language\"] for langData in data]]\n",
    "for num in range(1, MAX+1):\n",
    "    step = f\"step {num:02d}\"\n",
    "    col_data.append([step] + [langData.setdefault(step, \"\") for langData in data])\n",
    "col_data.append([\"etc\"] + [langData.setdefault(\"etc\", \"\") for langData in data])\n",
    "col_data.append([\"total\"] + [langData[\"total\"] for langData in data])"
   ]
  },
  {
   "cell_type": "code",
   "execution_count": 13,
   "id": "faf1cec8",
   "metadata": {},
   "outputs": [],
   "source": [
    "level = []\n",
    "level_map = {\"B\": 0, \"S\": 1, \"G\": 2, \"P\": 3, \"D\": 4, \"R\": 5}\n",
    "levels = [\"B\", \"S\", \"G\", \"P\", \"D\", \"R\"]\n",
    "MAX = 0\n",
    "\n",
    "for item in sorted(os.listdir('.')):\n",
    "    if not (os.path.isdir(item) and item.startswith(\"BAEKJOON\")):\n",
    "        continue\n",
    "    \n",
    "    total = 0\n",
    "    lang = item[9:-1]\n",
    "    langData = {\"Language\": lang}\n",
    "    \n",
    "    for step in sorted(os.listdir(item)):\n",
    "        if not (os.path.isdir(os.path.join(item, step))): continue\n",
    "        extension = lang_extension_map[lang]\n",
    "        \n",
    "        for filename in sorted(os.listdir(os.path.join(item, step))):\n",
    "            if os.path.isfile(os.path.join(item, step, filename)):\n",
    "                if (filename.endswith(f\".{extension}\")):\n",
    "                    score = filename.split('.')[0].split('_')[-1]\n",
    "                    langData.setdefault(score[0], [0]*6)[int(score[1])] += 1\n",
    "                    total += 1\n",
    "                    MAX = max(MAX, level_map[score[0]])\n",
    "    \n",
    "    langData[\"total\"] = f\"{total:3d}\"\n",
    "    level.append(langData)\n",
    "\n",
    "# 열(column) 기준 정렬\n",
    "col_level = [[\"Language\"] + [langData[\"Language\"] for langData in level]]\n",
    "for T in range(MAX+1):\n",
    "    T = levels[T]\n",
    "    for S in range(5, 0, -1):\n",
    "        col_level.append([T+str(S)] + [str(langData.setdefault(T, [0]*6)[S]) for langData in level])\n",
    "    col_level.append([])\n",
    "    col_level.append([\"All \" + T] + [str(sum(langData.setdefault(T, [0]*6))) for langData in level])\n",
    "    col_level.append([])\n",
    "col_level.append([\"total\"] + [langData[\"total\"] for langData in level])"
   ]
  },
  {
   "cell_type": "code",
   "execution_count": 14,
   "id": "04989ff1",
   "metadata": {},
   "outputs": [
    {
     "name": "stdout",
     "output_type": "stream",
     "text": [
      "| Language | C | C++ | Java | Python |\n",
      "| :---: | :---: | :---: | :---: | :---: |\n",
      "| step 01 | 13 / 13 | 13 / 13 | 13 / 13 | 13 / 13 |\n",
      "| step 02 | 07 / 07 | 07 / 07 | 07 / 07 | 07 / 07 |\n",
      "| step 03 | 12 / 12 | 12 / 12 | 12 / 12 | 12 / 12 |\n",
      "| step 04 | 10 / 10 | 10 / 10 | 10 / 10 | 10 / 10 |\n",
      "| step 05 | 11 / 11 | 11 / 11 | 11 / 11 | 11 / 11 |\n",
      "| step 06 | 08 / 08 | 08 / 08 | 08 / 08 | 08 / 08 |\n",
      "| step 07 | 04 / 04 | 04 / 04 | 04 / 04 | 04 / 04 |\n",
      "| step 08 | 07 / 07 | 07 / 07 | 07 / 07 | 07 / 07 |\n",
      "| step 09 | 06 / 06 | 06 / 06 | 06 / 06 | 06 / 06 |\n",
      "| step 10 | 08 / 08 | 08 / 08 | 08 / 08 | 08 / 08 |\n",
      "| step 11 | 07 / 07 | 07 / 07 | 07 / 07 | 07 / 07 |\n",
      "| step 12 | 06 / 06 | 06 / 06 | 06 / 06 | 06 / 06 |\n",
      "| step 13 | 11 / 11 | 11 / 11 | 11 / 11 | 11 / 11 |\n",
      "| step 14 | 08 / 08 | 08 / 08 | 08 / 08 | 08 / 08 |\n",
      "| step 15 | 09 / 09 | 09 / 09 | 09 / 09 | 09 / 09 |\n",
      "| step 16 | 11 / 11 | 11 / 11 | 11 / 11 | 11 / 11 |\n",
      "| step 17 | 05 / 05 | 05 / 05 | 05 / 05 | 05 / 05 |\n",
      "| step 18 | 05 / 05 | 05 / 05 | 05 / 05 | 05 / 05 |\n",
      "| step 19 | 07 / 07 | 07 / 07 | 07 / 07 | 07 / 07 |\n",
      "| step 20 | 08 / 08 | 08 / 08 | 08 / 08 | 08 / 08 |\n",
      "| step 21 | 08 / 16 (08) | 08 / 16 (08) | 16 / 16 | 16 / 16 |\n",
      "| step 22 |  |  | 06 / 06 | 06 / 06 |\n",
      "| step 23 |  |  | 05 / 05 | 05 / 05 |\n",
      "| step 24 |  |  | 09 / 09 | 09 / 09 |\n",
      "| step 25 |  |  | 07 / 07 | 07 / 07 |\n",
      "| step 26 |  |  | 06 / 06 | 06 / 06 |\n",
      "| step 27 |  |  | 06 / 06 | 06 / 06 |\n",
      "| step 28 |  |  |  | 05 / 05 |\n",
      "| step 29 |  |  |  | 16 / 16 |\n",
      "| step 30 |  |  |  | 03 / 03 |\n",
      "| step 31 |  |  |  | 07 / 07 |\n",
      "| step 32 |  |  |  | 05 / 05 |\n",
      "| step 33 |  |  |  | 09 / 09 |\n",
      "| step 34 |  |  |  | 07 / 07 |\n",
      "| step 35 |  |  |  | 04 / 04 |\n",
      "| step 36 |  |  |  | 06 / 06 |\n",
      "| step 37 |  |  |  | 04 / 10 (06) |\n",
      "| step 38 |  |  |  | 04 / 04 |\n",
      "| step 39 |  |  |  | 09 / 10 (01) |\n",
      "| step 40 |  |  |  | 06 / 08 (02) |\n",
      "| step 41 |  |  |  | 05 / 08 (03) |\n",
      "| etc |  |  |   6 |  31 |\n",
      "| total | 171 | 171 | 224 | 339 |\n",
      "|  |\n",
      "|  |\n",
      "| Language | C | C++ | Java | Python |\n",
      "| B5 | 39 | 36 | 37 | 55 |\n",
      "| B4 | 9 | 9 | 9 | 9 |\n",
      "| B3 | 21 | 26 | 26 | 27 |\n",
      "| B2 | 23 | 21 | 21 | 21 |\n",
      "| B1 | 12 | 11 | 11 | 12 |\n",
      "|  |\n",
      "| All B | 104 | 103 | 104 | 124 |\n",
      "|  |\n",
      "| S5 | 18 | 18 | 21 | 21 |\n",
      "| S4 | 19 | 19 | 24 | 29 |\n",
      "| S3 | 16 | 17 | 24 | 29 |\n",
      "| S2 | 6 | 5 | 13 | 21 |\n",
      "| S1 | 4 | 5 | 11 | 19 |\n",
      "|  |\n",
      "| All S | 63 | 64 | 93 | 119 |\n",
      "|  |\n",
      "| G5 | 2 | 2 | 5 | 16 |\n",
      "| G4 | 2 | 2 | 7 | 27 |\n",
      "| G3 | 0 | 0 | 8 | 20 |\n",
      "| G2 | 0 | 0 | 4 | 13 |\n",
      "| G1 | 0 | 0 | 2 | 9 |\n",
      "|  |\n",
      "| All G | 4 | 4 | 26 | 85 |\n",
      "|  |\n",
      "| P5 | 0 | 0 | 1 | 7 |\n",
      "| P4 | 0 | 0 | 0 | 4 |\n",
      "| P3 | 0 | 0 | 0 | 0 |\n",
      "| P2 | 0 | 0 | 0 | 0 |\n",
      "| P1 | 0 | 0 | 0 | 0 |\n",
      "|  |\n",
      "| All P | 0 | 0 | 1 | 11 |\n",
      "|  |\n",
      "| total | 171 | 171 | 224 | 339 |\n"
     ]
    }
   ],
   "source": [
    "csv_path = \"count.csv\"\n",
    "with open(csv_path,\"w\") as f:\n",
    "    for row in col_data:\n",
    "        f.write(\",\".join(f\"{s:>15}\" for s in row))\n",
    "        f.write('\\n')\n",
    "total_col = col_data + [[], []] + col_level\n",
    "makeMD(total_col)"
   ]
  },
  {
   "cell_type": "code",
   "execution_count": 15,
   "id": "8968e701",
   "metadata": {},
   "outputs": [],
   "source": [
    "def check(lang:str, total):\n",
    "    total = list(map(int, total.split(\" \")))\n",
    "    solves = []\n",
    "    folder = {}\n",
    "    path = f\"./BAEKJOON({lang})\"\n",
    "    extension = lang_extension_map[lang]\n",
    "    for step in sorted(os.listdir(path)):\n",
    "        if not(os.path.isdir(os.path.join(path, step))): continue\n",
    "        for filename in os.listdir(os.path.join(path, step)):\n",
    "            if os.path.isfile(os.path.join(path, step, filename)):\n",
    "                if (filename.endswith(f\".{extension}\")):\n",
    "                    num = extract(filename)\n",
    "                    solves.append(num)\n",
    "                    folder.setdefault(num, []).append(step)\n",
    "    for i in folder:\n",
    "        if (len(folder[i]) != 1):\n",
    "            print(i, \"중복\", folder[i])\n",
    "    \n",
    "    if (len(total) - len(set(total)) != 0):\n",
    "        print(\"에러: 주어진 문제가 중복이 된 문제가 존재합니다.\")\n",
    "        return {\"t-s\": set(), \"s-t\": set(), \"s\": set(), \"t\": set()}\n",
    "    \n",
    "    dic = {\"t-s\": sorted(list(set(total) - set(solves))), \"s-t\": sorted(list(set(solves) - set(total))), \"s\": sorted(list(set(solves))), \"t\": sorted(list(set(total)))}\n",
    "    \n",
    "    print(\"내가 푼 총 문제 수 :\", len(dic[\"t\"]))\n",
    "    print(\"현재 폴더에 있는 총 문제 수 :\", len(dic[\"s\"]))\n",
    "    print(\"제출한 문제 중 없는 문제 :\", len(dic[\"t-s\"]), dic[\"t-s\"])\n",
    "    print(\"미완성 문제 :\", len(dic[\"s-t\"]), dic[\"s-t\"])\n",
    "    return dic"
   ]
  },
  {
   "cell_type": "code",
   "execution_count": 16,
   "id": "eea41a42",
   "metadata": {},
   "outputs": [
    {
     "name": "stdout",
     "output_type": "stream",
     "text": [
      "14425 중복 ['step 14', 'step 41']\n",
      "10816 중복 ['step 14', 'step 25']\n",
      "2252 중복 ['step 30', '기타']\n",
      "내가 푼 총 문제 수 : 509\n",
      "현재 폴더에 있는 총 문제 수 : 336\n",
      "제출한 문제 중 없는 문제 : 173 [1016, 1022, 1026, 1110, 1158, 1259, 1271, 1406, 1557, 1647, 1676, 1874, 1966, 1990, 2042, 2163, 2239, 2259, 2338, 2357, 2393, 2420, 2440, 2467, 2475, 2530, 2558, 2577, 2609, 2741, 2742, 2744, 2752, 2754, 2775, 2845, 2851, 2920, 3046, 4101, 4153, 4470, 4913, 4999, 5337, 5338, 5339, 5522, 5532, 5543, 5554, 5596, 5717, 7287, 7561, 7568, 7662, 8370, 8958, 9095, 9316, 9653, 9654, 10039, 10156, 10170, 10250, 10699, 10718, 10757, 10768, 10797, 10808, 10828, 10845, 10866, 10942, 11025, 11051, 11505, 11726, 11942, 11945, 11948, 13277, 13294, 13866, 14581, 14645, 14928, 15596, 15633, 15654, 15657, 15663, 15666, 15680, 15727, 15733, 15740, 15829, 15873, 15962, 15963, 15964, 16170, 16199, 16204, 16394, 16401, 16430, 16486, 16953, 17256, 18110, 18352, 19944, 20492, 20551, 23292, 23293, 23301, 24082, 24883, 24900, 25311, 25372, 25640, 25955, 26711, 27172, 27294, 27434, 27889, 27959, 28113, 28116, 28125, 28126, 28127, 28129, 28135, 28136, 28137, 28235, 28292, 28691, 28701, 28702, 29731, 29751, 30007, 30030, 30087, 30402, 30802, 30803, 30804, 31403, 31922, 31923, 31924, 31925, 31926, 31929, 32260, 32978, 32979, 32980, 32981, 32982, 32983, 32986]\n",
      "미완성 문제 : 0 []\n"
     ]
    }
   ],
   "source": [
    "python_total = \"1000 1001 1002 1003 1005 1008 1010 1012 1016 1018 1022 1026 1037 1069 1085 1086 1110 1149 1152 1157 1158 1167 1181 1193 1197 1202 1259 1260 1269 1271 1300 1305 1311 1316 1330 1406 1427 1436 1450 1463 1504 1520 1541 1546 1557 1620 1629 1644 1647 1654 1676 1697 1707 1717 1725 1735 1753 1764 1766 1774 1780 1786 1806 1809 1874 1904 1912 1920 1927 1929 1931 1932 1934 1949 1956 1966 1967 1976 1978 1990 1991 1992 2042 2075 2098 2108 2110 2156 2162 2163 2164 2166 2178 2206 2213 2231 2239 2252 2259 2263 2292 2293 2338 2346 2357 2393 2420 2438 2439 2440 2444 2447 2467 2470 2475 2480 2482 2485 2501 2525 2530 2531 2533 2557 2558 2559 2562 2563 2565 2566 2577 2579 2580 2581 2587 2588 2606 2609 2618 2629 2630 2667 2675 2696 2720 2738 2739 2740 2741 2742 2743 2744 2745 2750 2751 2752 2753 2754 2775 2798 2805 2839 2845 2851 2869 2884 2903 2908 2920 2941 3003 3009 3015 3046 3052 3273 3665 3687 3733 4101 4134 4153 4195 4386 4470 4779 4803 4913 4948 4949 4999 5073 5086 5337 5338 5339 5341 5522 5532 5543 5554 5596 5597 5622 5639 5670 5717 6497 6549 6840 7287 7561 7562 7568 7569 7576 7579 7662 7785 7869 7891 8370 8393 8437 8545 8871 8958 9012 9019 9063 9086 9095 9184 9251 9252 9316 9370 9372 9375 9461 9498 9506 9653 9654 9663 9935 10039 10101 10156 10170 10171 10172 10189 10250 10430 10699 10718 10757 10768 10773 10797 10798 10807 10808 10809 10810 10811 10813 10814 10815 10816 10818 10828 10830 10844 10845 10866 10869 10870 10871 10872 10926 10942 10950 10951 10952 10986 10988 10989 10998 11005 11021 11022 11025 11047 11049 11050 11051 11053 11054 11066 11279 11286 11382 11399 11401 11404 11444 11478 11505 11650 11651 11653 11654 11657 11659 11660 11718 11720 11723 11724 11725 11726 11727 11728 11729 11758 11779 11780 11866 11942 11945 11948 12015 12789 12852 12865 13241 13277 13294 13305 13549 13866 13909 13913 14002 14003 14215 14425 14581 14645 14681 14725 14888 14889 14928 15000 15232 15439 15552 15596 15633 15649 15650 15651 15652 15654 15657 15663 15666 15680 15681 15727 15733 15740 15829 15873 15894 15962 15963 15964 16139 16170 16199 16204 16394 16401 16430 16486 16928 16953 17103 17219 17256 17298 17299 17386 17387 17404 17472 17626 18108 18110 18258 18352 18409 18870 19532 19944 20040 20149 20492 20551 20920 20944 23292 23293 23301 24060 24082 24262 24263 24264 24265 24266 24267 24313 24416 24444 24445 24479 24480 24511 24723 24883 24900 25083 25184 25192 25206 25304 25305 25308 25311 25314 25372 25501 25640 25682 25955 26069 26711 27172 27294 27323 27433 27434 27866 27889 27959 28065 28113 28116 28125 28126 28127 28129 28135 28136 28137 28235 28278 28279 28292 28444 28691 28701 28702 29699 29731 29751 30007 30030 30087 30402 30618 30676 30802 30803 30804 31403 31922 31923 31924 31925 31926 31929 32260 32384 32775 32929 32978 32979 32980 32981 32982 32983 32986 33515\"\n",
    "python = check('Python', python_total)"
   ]
  },
  {
   "cell_type": "code",
   "execution_count": 17,
   "id": "9a8722b5",
   "metadata": {},
   "outputs": [
    {
     "name": "stdout",
     "output_type": "stream",
     "text": [
      "10816 중복 ['step 14', 'step 25']\n",
      "내가 푼 총 문제 수 : 215\n",
      "현재 폴더에 있는 총 문제 수 : 223\n",
      "제출한 문제 중 없는 문제 : 0 []\n",
      "미완성 문제 : 8 [1202, 1520, 2293, 2629, 2696, 7579, 11049, 11066]\n"
     ]
    }
   ],
   "source": [
    "java_total = \"1000 1001 1003 1008 1010 1018 1022 1037 1085 1149 1152 1157 1181 1193 1269 1300 1316 1330 1427 1436 1463 1541 1546 1620 1629 1654 1735 1764 1780 1904 1912 1920 1927 1929 1931 1932 1934 1978 1992 2075 2108 2110 2156 2164 2231 2292 2346 2438 2439 2444 2447 2480 2485 2501 2525 2557 2559 2562 2563 2565 2566 2579 2580 2581 2587 2588 2630 2675 2720 2738 2739 2740 2743 2745 2750 2751 2753 2798 2805 2839 2869 2884 2903 2908 2941 3003 3009 3052 4134 4779 4948 4949 5073 5086 5597 5622 6549 7785 8393 9012 9063 9086 9184 9251 9461 9498 9506 9663 10101 10171 10172 10430 10773 10798 10807 10809 10810 10811 10813 10814 10815 10816 10818 10830 10844 10869 10870 10871 10872 10926 10950 10951 10952 10986 10988 10989 10998 11005 11021 11022 11047 11050 11053 11054 11279 11286 11382 11399 11401 11444 11478 11650 11651 11653 11654 11659 11660 11718 11720 11723 11726 11729 11866 12015 12095 12789 12865 13241 13305 13909 14215 14425 14681 14888 14889 15439 15552 15649 15650 15651 15652 15894 16139 17103 17219 18108 18258 18870 19532 20920 24060 24262 24263 24264 24265 24266 24267 24313 24416 24511 24723 25083 25192 25206 25304 25305 25314 25501 25682 26069 27323 27433 27866 28278 28279\"\n",
    "java = check('Java', java_total)"
   ]
  },
  {
   "cell_type": "code",
   "execution_count": 18,
   "id": "3fa1d080",
   "metadata": {},
   "outputs": [
    {
     "name": "stdout",
     "output_type": "stream",
     "text": [
      "내가 푼 총 문제 수 : 171\n",
      "현재 폴더에 있는 총 문제 수 : 171\n",
      "제출한 문제 중 없는 문제 : 0 []\n",
      "미완성 문제 : 0 []\n"
     ]
    }
   ],
   "source": [
    "c_total = \"1000 1001 1008 1010 1018 1037 1085 1149 1152 1157 1181 1193 1269 1316 1330 1427 1436 1546 1620 1735 1764 1904 1912 1929 1932 1934 1978 2108 2164 2231 2292 2346 2438 2439 2444 2447 2480 2485 2501 2525 2557 2562 2563 2566 2579 2580 2581 2587 2588 2675 2720 2738 2739 2743 2745 2750 2751 2753 2798 2839 2869 2884 2903 2908 2941 3003 3009 3052 4134 4779 4948 4949 5073 5086 5597 5622 7785 8393 9012 9063 9086 9184 9461 9498 9506 9663 10101 10171 10172 10430 10773 10798 10807 10809 10810 10811 10813 10814 10815 10816 10818 10869 10870 10871 10872 10926 10950 10951 10952 10988 10989 10998 11005 11021 11022 11050 11382 11478 11650 11651 11653 11654 11718 11720 11729 11866 12789 13241 13909 14215 14425 14681 14888 14889 15439 15552 15649 15650 15651 15652 15894 17103 18108 18258 18870 19532 20920 24060 24262 24263 24264 24265 24266 24267 24313 24416 24511 24723 25083 25192 25206 25304 25305 25314 25501 26069 27323 27433 27866 28278 28279\"\n",
    "c = check('C', c_total)"
   ]
  },
  {
   "cell_type": "code",
   "execution_count": 19,
   "id": "c4c6677c",
   "metadata": {},
   "outputs": [
    {
     "name": "stdout",
     "output_type": "stream",
     "text": [
      "내가 푼 총 문제 수 : 171\n",
      "현재 폴더에 있는 총 문제 수 : 171\n",
      "제출한 문제 중 없는 문제 : 0 []\n",
      "미완성 문제 : 0 []\n"
     ]
    }
   ],
   "source": [
    "cpp_total = \"1000 1001 1008 1010 1018 1037 1085 1149 1152 1157 1181 1193 1269 1316 1330 1427 1436 1546 1620 1735 1764 1904 1912 1929 1932 1934 1978 2108 2164 2231 2292 2346 2438 2439 2444 2447 2480 2485 2501 2525 2557 2562 2563 2566 2579 2580 2581 2587 2588 2675 2720 2738 2739 2743 2745 2750 2751 2753 2798 2839 2869 2884 2903 2908 2941 3003 3009 3052 4134 4779 4948 4949 5073 5086 5597 5622 7785 8393 9012 9063 9086 9184 9461 9498 9506 9663 10101 10171 10172 10430 10773 10798 10807 10809 10810 10811 10813 10814 10815 10816 10818 10869 10870 10871 10872 10926 10950 10951 10952 10988 10989 10998 11005 11021 11022 11050 11382 11478 11650 11651 11653 11654 11718 11720 11729 11866 12789 13241 13909 14215 14425 14681 14888 14889 15439 15552 15649 15650 15651 15652 15894 17103 18108 18258 18870 19532 20920 24060 24262 24263 24264 24265 24266 24267 24313 24416 24511 24723 25083 25192 25206 25304 25305 25314 25501 26069 27323 27433 27866 28278 28279\"\n",
    "cpp = check('C++', cpp_total)"
   ]
  },
  {
   "cell_type": "code",
   "execution_count": null,
   "id": "d063a243",
   "metadata": {},
   "outputs": [],
   "source": []
  }
 ],
 "metadata": {
  "kernelspec": {
   "display_name": "basic",
   "language": "python",
   "name": "python3"
  },
  "language_info": {
   "codemirror_mode": {
    "name": "ipython",
    "version": 3
   },
   "file_extension": ".py",
   "mimetype": "text/x-python",
   "name": "python",
   "nbconvert_exporter": "python",
   "pygments_lexer": "ipython3",
   "version": "3.12.0"
  }
 },
 "nbformat": 4,
 "nbformat_minor": 5
}
